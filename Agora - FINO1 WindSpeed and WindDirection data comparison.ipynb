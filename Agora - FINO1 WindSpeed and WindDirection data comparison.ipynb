{
 "cells": [
  {
   "cell_type": "code",
   "execution_count": 49,
   "metadata": {},
   "outputs": [],
   "source": [
    "import pandas as pd"
   ]
  },
  {
   "cell_type": "markdown",
   "metadata": {},
   "source": [
    "# Importing WindSpeed and WindDirection data "
   ]
  },
  {
   "cell_type": "code",
   "execution_count": 50,
   "metadata": {},
   "outputs": [
    {
     "data": {
      "text/html": [
       "<div>\n",
       "<style scoped>\n",
       "    .dataframe tbody tr th:only-of-type {\n",
       "        vertical-align: middle;\n",
       "    }\n",
       "\n",
       "    .dataframe tbody tr th {\n",
       "        vertical-align: top;\n",
       "    }\n",
       "\n",
       "    .dataframe thead th {\n",
       "        text-align: right;\n",
       "    }\n",
       "</style>\n",
       "<table border=\"1\" class=\"dataframe\">\n",
       "  <thead>\n",
       "    <tr style=\"text-align: right;\">\n",
       "      <th></th>\n",
       "      <th>Value</th>\n",
       "      <th>Minimum</th>\n",
       "      <th>Maximum</th>\n",
       "      <th>Deviation</th>\n",
       "      <th>Quality</th>\n",
       "    </tr>\n",
       "  </thead>\n",
       "  <tbody>\n",
       "    <tr>\n",
       "      <th>count</th>\n",
       "      <td>631149.000000</td>\n",
       "      <td>631149.000000</td>\n",
       "      <td>631149.000000</td>\n",
       "      <td>631149.000000</td>\n",
       "      <td>631149.0</td>\n",
       "    </tr>\n",
       "    <tr>\n",
       "      <th>mean</th>\n",
       "      <td>-45.388633</td>\n",
       "      <td>-46.975996</td>\n",
       "      <td>-43.535599</td>\n",
       "      <td>-64.008364</td>\n",
       "      <td>2.0</td>\n",
       "    </tr>\n",
       "    <tr>\n",
       "      <th>std</th>\n",
       "      <td>228.582874</td>\n",
       "      <td>227.747248</td>\n",
       "      <td>228.620361</td>\n",
       "      <td>245.907712</td>\n",
       "      <td>0.0</td>\n",
       "    </tr>\n",
       "    <tr>\n",
       "      <th>min</th>\n",
       "      <td>-999.000000</td>\n",
       "      <td>-999.000000</td>\n",
       "      <td>-1000.000000</td>\n",
       "      <td>-999.000000</td>\n",
       "      <td>2.0</td>\n",
       "    </tr>\n",
       "    <tr>\n",
       "      <th>25%</th>\n",
       "      <td>5.310000</td>\n",
       "      <td>3.770000</td>\n",
       "      <td>6.590000</td>\n",
       "      <td>0.300000</td>\n",
       "      <td>2.0</td>\n",
       "    </tr>\n",
       "    <tr>\n",
       "      <th>50%</th>\n",
       "      <td>8.550000</td>\n",
       "      <td>6.690000</td>\n",
       "      <td>10.180000</td>\n",
       "      <td>0.530000</td>\n",
       "      <td>2.0</td>\n",
       "    </tr>\n",
       "    <tr>\n",
       "      <th>75%</th>\n",
       "      <td>12.130000</td>\n",
       "      <td>10.050000</td>\n",
       "      <td>14.100000</td>\n",
       "      <td>0.850000</td>\n",
       "      <td>2.0</td>\n",
       "    </tr>\n",
       "    <tr>\n",
       "      <th>max</th>\n",
       "      <td>37.610000</td>\n",
       "      <td>1000.000000</td>\n",
       "      <td>999.000000</td>\n",
       "      <td>7.860000</td>\n",
       "      <td>2.0</td>\n",
       "    </tr>\n",
       "  </tbody>\n",
       "</table>\n",
       "</div>"
      ],
      "text/plain": [
       "               Value        Minimum        Maximum      Deviation   Quality\n",
       "count  631149.000000  631149.000000  631149.000000  631149.000000  631149.0\n",
       "mean      -45.388633     -46.975996     -43.535599     -64.008364       2.0\n",
       "std       228.582874     227.747248     228.620361     245.907712       0.0\n",
       "min      -999.000000    -999.000000   -1000.000000    -999.000000       2.0\n",
       "25%         5.310000       3.770000       6.590000       0.300000       2.0\n",
       "50%         8.550000       6.690000      10.180000       0.530000       2.0\n",
       "75%        12.130000      10.050000      14.100000       0.850000       2.0\n",
       "max        37.610000    1000.000000     999.000000       7.860000       2.0"
      ]
     },
     "execution_count": 50,
     "metadata": {},
     "output_type": "execute_result"
    }
   ],
   "source": [
    "WindSpeed = pd.read_csv(\"C:\\Users\\jonat\\OneDrive\\Documents\\Python\\Data\\EDIT\\FINO\\FINO1_WindSpeed_90m_20040101_20151231\", header = 0, delimiter= '\\t', comment='#')\n",
    "#WindSpeed['Time'] = pd.to_datetime(WindSpeed['Time'], format = '%Y-%m-%d %H:%M:%S')\n",
    "WindSpeed.describe()"
   ]
  },
  {
   "cell_type": "code",
   "execution_count": 51,
   "metadata": {},
   "outputs": [
    {
     "data": {
      "text/html": [
       "<div>\n",
       "<style scoped>\n",
       "    .dataframe tbody tr th:only-of-type {\n",
       "        vertical-align: middle;\n",
       "    }\n",
       "\n",
       "    .dataframe tbody tr th {\n",
       "        vertical-align: top;\n",
       "    }\n",
       "\n",
       "    .dataframe thead th {\n",
       "        text-align: right;\n",
       "    }\n",
       "</style>\n",
       "<table border=\"1\" class=\"dataframe\">\n",
       "  <thead>\n",
       "    <tr style=\"text-align: right;\">\n",
       "      <th></th>\n",
       "      <th>Value</th>\n",
       "      <th>Minimum</th>\n",
       "      <th>Maximum</th>\n",
       "      <th>Deviation</th>\n",
       "      <th>Quality</th>\n",
       "    </tr>\n",
       "  </thead>\n",
       "  <tbody>\n",
       "    <tr>\n",
       "      <th>count</th>\n",
       "      <td>631144.000000</td>\n",
       "      <td>6.311440e+05</td>\n",
       "      <td>6.311440e+05</td>\n",
       "      <td>631144.000000</td>\n",
       "      <td>631144.0</td>\n",
       "    </tr>\n",
       "    <tr>\n",
       "      <th>mean</th>\n",
       "      <td>127.933512</td>\n",
       "      <td>-9.999900e+02</td>\n",
       "      <td>-9.999900e+02</td>\n",
       "      <td>-56.730087</td>\n",
       "      <td>2.0</td>\n",
       "    </tr>\n",
       "    <tr>\n",
       "      <th>std</th>\n",
       "      <td>293.455589</td>\n",
       "      <td>7.010732e-09</td>\n",
       "      <td>7.010732e-09</td>\n",
       "      <td>246.932349</td>\n",
       "      <td>0.0</td>\n",
       "    </tr>\n",
       "    <tr>\n",
       "      <th>min</th>\n",
       "      <td>-999.000000</td>\n",
       "      <td>-9.999900e+02</td>\n",
       "      <td>-9.999900e+02</td>\n",
       "      <td>-999.000000</td>\n",
       "      <td>2.0</td>\n",
       "    </tr>\n",
       "    <tr>\n",
       "      <th>25%</th>\n",
       "      <td>101.700000</td>\n",
       "      <td>-9.999900e+02</td>\n",
       "      <td>-9.999900e+02</td>\n",
       "      <td>2.420000</td>\n",
       "      <td>2.0</td>\n",
       "    </tr>\n",
       "    <tr>\n",
       "      <th>50%</th>\n",
       "      <td>204.700000</td>\n",
       "      <td>-9.999900e+02</td>\n",
       "      <td>-9.999900e+02</td>\n",
       "      <td>3.250000</td>\n",
       "      <td>2.0</td>\n",
       "    </tr>\n",
       "    <tr>\n",
       "      <th>75%</th>\n",
       "      <td>264.400000</td>\n",
       "      <td>-9.999900e+02</td>\n",
       "      <td>-9.999900e+02</td>\n",
       "      <td>4.670000</td>\n",
       "      <td>2.0</td>\n",
       "    </tr>\n",
       "    <tr>\n",
       "      <th>max</th>\n",
       "      <td>360.000000</td>\n",
       "      <td>-9.999900e+02</td>\n",
       "      <td>-9.999900e+02</td>\n",
       "      <td>424.150000</td>\n",
       "      <td>2.0</td>\n",
       "    </tr>\n",
       "  </tbody>\n",
       "</table>\n",
       "</div>"
      ],
      "text/plain": [
       "               Value       Minimum       Maximum      Deviation   Quality\n",
       "count  631144.000000  6.311440e+05  6.311440e+05  631144.000000  631144.0\n",
       "mean      127.933512 -9.999900e+02 -9.999900e+02     -56.730087       2.0\n",
       "std       293.455589  7.010732e-09  7.010732e-09     246.932349       0.0\n",
       "min      -999.000000 -9.999900e+02 -9.999900e+02    -999.000000       2.0\n",
       "25%       101.700000 -9.999900e+02 -9.999900e+02       2.420000       2.0\n",
       "50%       204.700000 -9.999900e+02 -9.999900e+02       3.250000       2.0\n",
       "75%       264.400000 -9.999900e+02 -9.999900e+02       4.670000       2.0\n",
       "max       360.000000 -9.999900e+02 -9.999900e+02     424.150000       2.0"
      ]
     },
     "execution_count": 51,
     "metadata": {},
     "output_type": "execute_result"
    }
   ],
   "source": [
    "WindDirection = pd.read_csv(\"C:\\Users\\jonat\\OneDrive\\Documents\\Python\\Data\\EDIT\\FINO\\FINO1_WindDirection_90m_20040101_20151231\", header = 0, delimiter= '\\t', comment='#')\n",
    "#WindDirection['Time'] = pd.to_datetime(WindDirection['Time'], format = '%Y-%m-%d %H:%M:%S')\n",
    "WindDirection.describe()"
   ]
  },
  {
   "cell_type": "markdown",
   "metadata": {},
   "source": [
    "The WindSpeed dataset contains 631149 points while the WindDirection set contains 631144 points."
   ]
  },
  {
   "cell_type": "markdown",
   "metadata": {},
   "source": [
    "# Merging WindSpeed and WindDirection datasets "
   ]
  },
  {
   "cell_type": "code",
   "execution_count": 52,
   "metadata": {},
   "outputs": [],
   "source": [
    "Ws_Wd_Merged = pd.merge(WindSpeed, WindDirection[['Time','Value']],on = 'Time') # Merging the 2 datasets into one single dataframe called Ws_Wd_Merged.\n",
    "Ws_Wd_Merged.rename(columns={'Value_x':'Ws_Value', 'Value_y':'Wd_Value'}, inplace= True) # renaming columns\n",
    "Ws_Wd_Merged.set_index('Time', inplace=True)\n",
    "Ws_Wd_Merged.describe()\n",
    "Ws_Wd_Merged.to_csv ('C:\\Users\\jonat\\OneDrive\\Documents\\Python\\Output\\Files\\Agora\\MERGED_wSpeed_wDirection_FINO1_90m_20040101_20151231.csv', index = True, header=True)"
   ]
  },
  {
   "cell_type": "markdown",
   "metadata": {},
   "source": [
    "Ws_value columns contains the wind speed values while the Wd_value contains wind direction data. No operations have been made on or using any other column data. The merged data set contains 631143. \"-999\" or \"1000\" value data points have not been removed. The merged data set is the set of common data points between the raw WindSpeed and WindDirection datasets.\n",
    "File Name: MERGED_wSpeed_wDirection_FINO1_90m_20040101_20151231.csv"
   ]
  },
  {
   "cell_type": "markdown",
   "metadata": {},
   "source": [
    "# Identifying missing dates"
   ]
  },
  {
   "cell_type": "code",
   "execution_count": 53,
   "metadata": {},
   "outputs": [
    {
     "name": "stdout",
     "output_type": "stream",
     "text": [
      "  0  1  2  3  4  5  6  7  8  9  10 11 12 13 14 15 16 17 18\n",
      "0  2  0  0  7  -  1  2  -  0  1     0  0  :  2  0  :  0  0\n",
      "1  2  0  0  7  -  1  1  -  0  1     0  0  :  1  0  :  0  0\n",
      "2  2  0  0  7  -  1  2  -  0  1     0  0  :  1  0  :  0  0\n",
      "3  2  0  0  7  -  1  1  -  0  1     0  0  :  2  0  :  0  0\n",
      "4  2  0  0  7  -  1  2  -  0  1     0  0  :  3  0  :  0  0\n",
      "5  2  0  0  7  -  1  1  -  0  1     0  0  :  3  0  :  0  0\n"
     ]
    }
   ],
   "source": [
    "WindSpeed_Tup = set([tuple(line) for line in WindSpeed['Time'].values])\n",
    "WindDirection_Tup = set([tuple(line) for line in WindDirection['Time'].values])\n",
    "WindSpeed_Tup.difference(WindDirection_Tup)\n",
    "diff_export = pd.DataFrame(list(WindSpeed_Tup.difference(WindDirection_Tup)))\n",
    "print diff_export\n",
    "diff_export.to_csv('C:\\Users\\jonat\\OneDrive\\Documents\\Python\\Output\\Files\\Agora\\Missing_Days_wSpeed_wDirection_FINO1_90m_20040101_20151231.csv', index = None, header=None)"
   ]
  },
  {
   "cell_type": "markdown",
   "metadata": {},
   "source": [
    "The merged data setcontains 631143 points implying that there is a discrepancy of 6 data. Running the difference code outputs the above 6 dates. File Name : Missing_Days_wSpeed_wDirection_FINO1_90m_20040101_20151231.csv"
   ]
  },
  {
   "cell_type": "code",
   "execution_count": null,
   "metadata": {},
   "outputs": [],
   "source": []
  }
 ],
 "metadata": {
  "kernelspec": {
   "display_name": "Python 2",
   "language": "python",
   "name": "python2"
  },
  "language_info": {
   "codemirror_mode": {
    "name": "ipython",
    "version": 2
   },
   "file_extension": ".py",
   "mimetype": "text/x-python",
   "name": "python",
   "nbconvert_exporter": "python",
   "pygments_lexer": "ipython2",
   "version": "2.7.14"
  }
 },
 "nbformat": 4,
 "nbformat_minor": 2
}
