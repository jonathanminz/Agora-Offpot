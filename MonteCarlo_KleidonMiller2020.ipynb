{
 "cells": [
  {
   "cell_type": "code",
   "execution_count": 97,
   "metadata": {},
   "outputs": [],
   "source": [
    "import numpy as np\n",
    "import matplotlib.pyplot as plt\n",
    "import pandas as pd\n"
   ]
  },
  {
   "cell_type": "code",
   "execution_count": 99,
   "metadata": {},
   "outputs": [
    {
     "ename": "AttributeError",
     "evalue": "'module' object has no attribute 'default_rng'",
     "output_type": "error",
     "traceback": [
      "\u001b[0;31m---------------------------------------------------------------------------\u001b[0m",
      "\u001b[0;31mAttributeError\u001b[0m                            Traceback (most recent call last)",
      "\u001b[0;32m<ipython-input-99-a778a53006d6>\u001b[0m in \u001b[0;36m<module>\u001b[0;34m()\u001b[0m\n\u001b[0;32m----> 1\u001b[0;31m \u001b[0mrng\u001b[0m \u001b[0;34m=\u001b[0m \u001b[0mnp\u001b[0m\u001b[0;34m.\u001b[0m\u001b[0mrandom\u001b[0m\u001b[0;34m.\u001b[0m\u001b[0mdefault_rng\u001b[0m\u001b[0;34m(\u001b[0m\u001b[0;34m)\u001b[0m \u001b[0;31m# setting a random number seed\u001b[0m\u001b[0;34m\u001b[0m\u001b[0m\n\u001b[0m\u001b[1;32m      2\u001b[0m \u001b[0;34m\u001b[0m\u001b[0m\n\u001b[1;32m      3\u001b[0m \u001b[0mnum_of_hours_in_year\u001b[0m \u001b[0;34m=\u001b[0m \u001b[0;36m8760\u001b[0m\u001b[0;34m\u001b[0m\u001b[0m\n\u001b[1;32m      4\u001b[0m \u001b[0mrho_air\u001b[0m \u001b[0;34m=\u001b[0m \u001b[0;36m1.2\u001b[0m \u001b[0;31m#kg.per.m3\u001b[0m\u001b[0;34m\u001b[0m\u001b[0m\n\u001b[1;32m      5\u001b[0m \u001b[0mrotor_area\u001b[0m \u001b[0;34m=\u001b[0m \u001b[0;36m5027\u001b[0m \u001b[0;31m#m2\u001b[0m\u001b[0;34m\u001b[0m\u001b[0m\n",
      "\u001b[0;31mAttributeError\u001b[0m: 'module' object has no attribute 'default_rng'"
     ]
    }
   ],
   "source": [
    "rng = np.random.default_rng() # setting a random number seed\n",
    "\n",
    "num_of_hours_in_year = 8760\n",
    "rho_air = 1.2 #kg.per.m3\n",
    "rotor_area = 5027 #m2\n",
    "eta=.44\n",
    "wind_turbine_capacity = 2000000 * np.ones(8760)\n",
    "wind_turbine_capacity"
   ]
  },
  {
   "cell_type": "code",
   "execution_count": null,
   "metadata": {},
   "outputs": [],
   "source": [
    "A_weibull_k = 3.1\n",
    "A_weibull_lambda = 8.33\n",
    "\n",
    "B_weibull_k = 2.4\n",
    "B_weibull_lambda = 10.6\n",
    "\n",
    "C_weibull_k = 3.1\n",
    "C_weibull_lambda = 14.7\n"
   ]
  },
  {
   "cell_type": "code",
   "execution_count": null,
   "metadata": {},
   "outputs": [],
   "source": [
    "\n",
    "A_wind_power_total_annual_yield_MW_100 = np.empty(10000)\n",
    "A_wind_power_total_annual_yield_MW_1000 = np.empty(10000)\n",
    "A_wind_power_total_annual_yield_MW_10000 = np.empty(10000)\n",
    "A_wind_power_total_annual_yield_MW_100000 = np.empty(10000)\n",
    "\n",
    "for i in np.arange(0,10000):\n",
    "    A_windspeed =  A_weibull_lambda * rng.weibull(A_weibull_k , num_of_hours_in_year)\n",
    "    A_wind_total = .5 * rho_air/2. * (A_windspeed**3) * eta * rotor_area \n",
    "    A_wind_power_annual_MW_N_100 = 100 * np.minimum(A_wind_total, wind_turbine_capacity)/(num_of_hours_in_year * 1000000)\n",
    "    A_wind_power_annual_MW_N_1000 = 1000 * np.minimum(A_wind_total, wind_turbine_capacity)/(num_of_hours_in_year * 1000000)\n",
    "    A_wind_power_annual_MW_N_10000 = 10000 * np.minimum(A_wind_total, wind_turbine_capacity)/(num_of_hours_in_year * 1000000)\n",
    "    A_wind_power_annual_MW_N_100000 = 100000 * np.minimum(A_wind_total, wind_turbine_capacity)/(num_of_hours_in_year * 1000000)\n",
    "    A_wind_power_total_annual_yield_MW_100[i] = A_wind_power_annual_MW_N_100.sum()\n",
    "    A_wind_power_total_annual_yield_MW_1000[i] = A_wind_power_annual_MW_N_1000.sum()\n",
    "    A_wind_power_total_annual_yield_MW_10000[i] = A_wind_power_annual_MW_N_10000.sum()\n",
    "    A_wind_power_total_annual_yield_MW_100000[i] = A_wind_power_annual_MW_N_100000.sum()\n",
    "    \n",
    "A_wind_power_total_mean_annual_yield_MW_100 = A_wind_power_total_annual_yield_MW_100.mean()\n",
    "A_wind_power_total_mean_annual_yield_MW_1000 = A_wind_power_total_annual_yield_MW_1000.mean()    \n",
    "A_wind_power_total_mean_annual_yield_MW_10000 = A_wind_power_total_annual_yield_MW_10000.mean()    \n",
    "A_wind_power_total_mean_annual_yield_MW_100000 = A_wind_power_total_annual_yield_MW_100000.mean()\n",
    "\n",
    "A_wind_power_total_median_annual_yield_MW_100 = np.median(A_wind_power_total_annual_yield_MW_100)\n",
    "A_wind_power_total_median_annual_yield_MW_1000 = np.median(A_wind_power_total_annual_yield_MW_1000)\n",
    "A_wind_power_total_median_annual_yield_MW_10000 = np.median(A_wind_power_total_annual_yield_MW_10000)\n",
    "A_wind_power_total_median_annual_yield_MW_100000 = np.median(A_wind_power_total_annual_yield_MW_100000)\n",
    "\n",
    "A_wind_power_total_std_annual_yield_MW_100 = np.std(A_wind_power_total_annual_yield_MW_100)\n",
    "A_wind_power_total_std_annual_yield_MW_1000 = np.std(A_wind_power_total_annual_yield_MW_1000)\n",
    "A_wind_power_total_std_annual_yield_MW_10000 = np.std(A_wind_power_total_annual_yield_MW_10000)\n",
    "A_wind_power_total_std_annual_yield_MW_100000 = np.std(A_wind_power_total_annual_yield_MW_100000)\n"
   ]
  },
  {
   "cell_type": "code",
   "execution_count": null,
   "metadata": {},
   "outputs": [],
   "source": [
    "A = pd.DataFrame(columns = ['100','1000','10000','100000'])\n",
    "A['100'] = A_wind_power_total_annual_yield_MW_100\n",
    "A['1000'] = A_wind_power_total_annual_yield_MW_1000\n",
    "A['10000'] = A_wind_power_total_annual_yield_MW_10000\n",
    "A['100000'] = A_wind_power_total_annual_yield_MW_100000\n",
    "A.boxplot(column=['100','1000','10000','100000'], showfliers = False)"
   ]
  },
  {
   "cell_type": "code",
   "execution_count": null,
   "metadata": {},
   "outputs": [],
   "source": [
    "plt.hist(A_wind_power_total_annual_yield_MW_1000)\n",
    "#plt.xlim(0,30)\n",
    "plt.show()"
   ]
  },
  {
   "cell_type": "code",
   "execution_count": null,
   "metadata": {},
   "outputs": [],
   "source": [
    "B_wind_power_total_annual_yield_MW_100 = np.empty(10000)\n",
    "B_wind_power_total_annual_yield_MW_1000 = np.empty(10000)\n",
    "B_wind_power_total_annual_yield_MW_10000 = np.empty(10000)\n",
    "B_wind_power_total_annual_yield_MW_100000 = np.empty(10000)\n",
    "\n",
    "for i in np.arange(0,10000):\n",
    "    B_windspeed =  B_weibull_lambda * rng.weibull(A_weibull_k , num_of_hours_in_year)\n",
    "    B_wind_total = .5 * rho_air/2. * (B_windspeed**3) * eta * rotor_area \n",
    "    B_wind_power_annual_MW_N_100 = 100 * np.minimum(B_wind_total, wind_turbine_capacity)/(num_of_hours_in_year * 1000000)\n",
    "    B_wind_power_annual_MW_N_1000 = 1000 * np.minimum(B_wind_total, wind_turbine_capacity)/(num_of_hours_in_year * 1000000)\n",
    "    B_wind_power_annual_MW_N_10000 = 10000 * np.minimum(B_wind_total, wind_turbine_capacity)/(num_of_hours_in_year * 1000000)\n",
    "    B_wind_power_annual_MW_N_100000 = 100000 * np.minimum(B_wind_total, wind_turbine_capacity)/(num_of_hours_in_year * 1000000)\n",
    "    B_wind_power_total_annual_yield_MW_100[i] = B_wind_power_annual_MW_N_100.sum()\n",
    "    B_wind_power_total_annual_yield_MW_1000[i] = B_wind_power_annual_MW_N_1000.sum()\n",
    "    B_wind_power_total_annual_yield_MW_10000[i] = B_wind_power_annual_MW_N_10000.sum()\n",
    "    B_wind_power_total_annual_yield_MW_100000[i] = B_wind_power_annual_MW_N_100000.sum()\n",
    "    \n",
    "B_wind_power_total_mean_annual_yield_MW_100 = B_wind_power_total_annual_yield_MW_100.mean()\n",
    "B_wind_power_total_mean_annual_yield_MW_1000 = B_wind_power_total_annual_yield_MW_1000.mean()    \n",
    "B_wind_power_total_mean_annual_yield_MW_10000 = B_wind_power_total_annual_yield_MW_10000.mean()    \n",
    "B_wind_power_total_mean_annual_yield_MW_100000 = B_wind_power_total_annual_yield_MW_100000.mean()\n",
    "\n",
    "B_wind_power_total_median_annual_yield_MW_100 = np.median(B_wind_power_total_annual_yield_MW_100)\n",
    "B_wind_power_total_median_annual_yield_MW_1000 = np.median(B_wind_power_total_annual_yield_MW_1000)\n",
    "B_wind_power_total_median_annual_yield_MW_10000 = np.median(B_wind_power_total_annual_yield_MW_10000)\n",
    "B_wind_power_total_median_annual_yield_MW_100000 = np.median(B_wind_power_total_annual_yield_MW_100000)\n",
    "\n",
    "B_wind_power_total_std_annual_yield_MW_100 = np.std(B_wind_power_total_annual_yield_MW_100)\n",
    "B_wind_power_total_std_annual_yield_MW_1000 = np.std(B_wind_power_total_annual_yield_MW_1000)\n",
    "B_wind_power_total_std_annual_yield_MW_10000 = np.std(B_wind_power_total_annual_yield_MW_10000)\n",
    "B_wind_power_total_std_annual_yield_MW_100000 = np.std(B_wind_power_total_annual_yield_MW_100000)"
   ]
  },
  {
   "cell_type": "code",
   "execution_count": null,
   "metadata": {},
   "outputs": [],
   "source": [
    "B = pd.DataFrame(columns = ['100','1000','10000','100000'])\n",
    "B['100'] = B_wind_power_total_annual_yield_MW_100\n",
    "B['1000'] = B_wind_power_total_annual_yield_MW_1000\n",
    "B['10000'] = B_wind_power_total_annual_yield_MW_10000\n",
    "B['100000'] = B_wind_power_total_annual_yield_MW_100000"
   ]
  },
  {
   "cell_type": "code",
   "execution_count": null,
   "metadata": {},
   "outputs": [],
   "source": [
    "plt.hist(B_wind_power_total_annual_yield_MW_1000)\n",
    "#plt.xlim(0,30)\n",
    "plt.show()"
   ]
  },
  {
   "cell_type": "code",
   "execution_count": null,
   "metadata": {},
   "outputs": [],
   "source": [
    "B_wind_power_total_std_annual_yield_MW_100/B_wind_power_total_mean_annual_yield_MW_100"
   ]
  },
  {
   "cell_type": "code",
   "execution_count": null,
   "metadata": {},
   "outputs": [],
   "source": [
    "C_wind_power_total_annual_yield_MW_100 = np.empty(10000)\n",
    "C_wind_power_total_annual_yield_MW_1000 = np.empty(10000)\n",
    "C_wind_power_total_annual_yield_MW_10000 = np.empty(10000)\n",
    "C_wind_power_total_annual_yield_MW_100000 = np.empty(10000)\n",
    "\n",
    "for i in np.arange(0,10000):\n",
    "    C_windspeed =  B_weibull_lambda * rng.weibull(A_weibull_k , num_of_hours_in_year)\n",
    "    C_wind_total = .5 * rho_air/2. * (C_windspeed**3) * eta * rotor_area \n",
    "    C_wind_power_annual_MW_N_100 = 100 * np.minimum(C_wind_total, wind_turbine_capacity)/(num_of_hours_in_year * 1000000)\n",
    "    C_wind_power_annual_MW_N_1000 = 1000 * np.minimum(C_wind_total, wind_turbine_capacity)/(num_of_hours_in_year * 1000000)\n",
    "    C_wind_power_annual_MW_N_10000 = 10000 * np.minimum(C_wind_total, wind_turbine_capacity)/(num_of_hours_in_year * 1000000)\n",
    "    C_wind_power_annual_MW_N_100000 = 100000 * np.minimum(C_wind_total, wind_turbine_capacity)/(num_of_hours_in_year * 1000000)\n",
    "    C_wind_power_total_annual_yield_MW_100[i] = C_wind_power_annual_MW_N_100.sum()\n",
    "    C_wind_power_total_annual_yield_MW_1000[i] = C_wind_power_annual_MW_N_1000.sum()\n",
    "    C_wind_power_total_annual_yield_MW_10000[i] = C_wind_power_annual_MW_N_10000.sum()\n",
    "    C_wind_power_total_annual_yield_MW_100000[i] = C_wind_power_annual_MW_N_100000.sum()\n",
    "    \n",
    "C_wind_power_total_mean_annual_yield_MW_100 = C_wind_power_total_annual_yield_MW_100.mean()\n",
    "C_wind_power_total_mean_annual_yield_MW_1000 = C_wind_power_total_annual_yield_MW_1000.mean()    \n",
    "C_wind_power_total_mean_annual_yield_MW_10000 = C_wind_power_total_annual_yield_MW_10000.mean()    \n",
    "C_wind_power_total_mean_annual_yield_MW_100000 = C_wind_power_total_annual_yield_MW_100000.mean()\n",
    "\n",
    "C_wind_power_total_median_annual_yield_MW_100 = np.median(C_wind_power_total_annual_yield_MW_100)\n",
    "C_wind_power_total_median_annual_yield_MW_1000 = np.median(C_wind_power_total_annual_yield_MW_1000)\n",
    "C_wind_power_total_median_annual_yield_MW_10000 = np.median(C_wind_power_total_annual_yield_MW_10000)\n",
    "C_wind_power_total_median_annual_yield_MW_100000 = np.median(C_wind_power_total_annual_yield_MW_100000)\n",
    "\n",
    "C_wind_power_total_std_annual_yield_MW_100 = np.std(C_wind_power_total_annual_yield_MW_100)\n",
    "C_wind_power_total_std_annual_yield_MW_1000 = np.std(C_wind_power_total_annual_yield_MW_1000)\n",
    "C_wind_power_total_std_annual_yield_MW_10000 = np.std(C_wind_power_total_annual_yield_MW_10000)\n",
    "C_wind_power_total_std_annual_yield_MW_100000 = np.std(C_wind_power_total_annual_yield_MW_100000)"
   ]
  },
  {
   "cell_type": "code",
   "execution_count": null,
   "metadata": {},
   "outputs": [],
   "source": [
    "C = pd.DataFrame(columns = ['100','1000','10000','100000'])\n",
    "C['100'] = C_wind_power_total_annual_yield_MW_100\n",
    "C['1000'] = C_wind_power_total_annual_yield_MW_1000\n",
    "C['10000'] = C_wind_power_total_annual_yield_MW_10000\n",
    "C['100000'] = C_wind_power_total_annual_yield_MW_100000"
   ]
  },
  {
   "cell_type": "code",
   "execution_count": null,
   "metadata": {},
   "outputs": [],
   "source": [
    "plt.hist(C_wind_power_total_annual_yield_MW_1000)\n",
    "#plt.xlim(0,30)\n",
    "plt.show()"
   ]
  }
 ],
 "metadata": {
  "kernelspec": {
   "display_name": "Python 2",
   "language": "python",
   "name": "python2"
  },
  "language_info": {
   "codemirror_mode": {
    "name": "ipython",
    "version": 2
   },
   "file_extension": ".py",
   "mimetype": "text/x-python",
   "name": "python",
   "nbconvert_exporter": "python",
   "pygments_lexer": "ipython2",
   "version": "2.7.16"
  }
 },
 "nbformat": 4,
 "nbformat_minor": 2
}
