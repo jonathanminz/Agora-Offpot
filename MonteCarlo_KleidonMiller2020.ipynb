{
 "cells": [
  {
   "cell_type": "code",
   "execution_count": 1,
   "metadata": {},
   "outputs": [],
   "source": [
    "import numpy as np\n",
    "import matplotlib.pyplot as plt\n",
    "import pandas as pd\n",
    "import seaborn as sns\n",
    "np.random.seed(12345)"
   ]
  },
  {
   "cell_type": "code",
   "execution_count": 35,
   "metadata": {},
   "outputs": [],
   "source": [
    "\n",
    "#rng = np.random.default_rng() # setting a random number seed\n",
    "# all lengths are in metres\n",
    "# power is in watts unless converted \n",
    "\n",
    "# boundary layer height for region A\n",
    "height_of_boundary_layer = {\n",
    "    'A': 2000,\n",
    "    'B': 700,\n",
    "    'C': 700\n",
    "}\n",
    "\n",
    "num_of_hours_in_year = 8760\n",
    "rho_air = 1.2 #kg.per.m3\n",
    "rotor_area = 5027 #m2\n",
    "eta=.44 # capacity factor \n",
    "wind_turbine_capacity = 2000000 * np.ones(8760) #Vestas V-80 2MW turbine \n",
    "surface_roughness = .001\n",
    "\n",
    "volker_park_dimensions = {'small': [5000,5000],\n",
    "                          'medium': [18500,18500],\n",
    "                         'large': [170000,170000],\n",
    "                         'very_large':[338000,338000]}"
   ]
  },
  {
   "cell_type": "code",
   "execution_count": 32,
   "metadata": {},
   "outputs": [
    {
     "name": "stdout",
     "output_type": "stream",
     "text": [
      "<type 'int'>\n",
      "<type 'int'>\n",
      "<type 'int'>\n",
      "<type 'int'>\n"
     ]
    }
   ],
   "source": [
    "for num in volker_park_dimensions:\n",
    "    print type(volker_park_dimensions[num][0])"
   ]
  },
  {
   "cell_type": "code",
   "execution_count": 3,
   "metadata": {},
   "outputs": [],
   "source": [
    "A_weibull_k = 3.1\n",
    "A_weibull_lambda = 8.33 # Region A\n",
    "\n",
    "B_weibull_k = 2.4\n",
    "B_weibull_lambda = 10.6 # Region B\n",
    "\n",
    "C_weibull_k = 3.1\n",
    "C_weibull_lambda = 14.7 #Region C\n"
   ]
  },
  {
   "cell_type": "code",
   "execution_count": 4,
   "metadata": {},
   "outputs": [],
   "source": [
    "\n",
    "A_wind_power_total_annual_yield_MW_100 = np.empty(10000)\n",
    "A_wind_power_total_annual_yield_MW_1000 = np.empty(10000)\n",
    "A_wind_power_total_annual_yield_MW_10000 = np.empty(10000)\n",
    "A_wind_power_total_annual_yield_MW_100000 = np.empty(10000)\n",
    "\n",
    "for i in np.arange(0,10000):\n",
    "    A_windspeed =  A_weibull_lambda * np.random.weibull(A_weibull_k , num_of_hours_in_year)\n",
    "    A_wind_total = .5 * rho_air/2. * (A_windspeed**3) * eta * rotor_area \n",
    "    A_wind_power_annual_MW_N_100 = 100 * np.minimum(A_wind_total, wind_turbine_capacity)/(num_of_hours_in_year * 1000000)\n",
    "    A_wind_power_annual_MW_N_1000 = 1000 * np.minimum(A_wind_total, wind_turbine_capacity)/(num_of_hours_in_year * 1000000)\n",
    "    A_wind_power_annual_MW_N_10000 = 10000 * np.minimum(A_wind_total, wind_turbine_capacity)/(num_of_hours_in_year * 1000000)\n",
    "    A_wind_power_annual_MW_N_100000 = 100000 * np.minimum(A_wind_total, wind_turbine_capacity)/(num_of_hours_in_year * 1000000)\n",
    "    A_wind_power_total_annual_yield_MW_100[i] = A_wind_power_annual_MW_N_100.sum()\n",
    "    A_wind_power_total_annual_yield_MW_1000[i] = A_wind_power_annual_MW_N_1000.sum()\n",
    "    A_wind_power_total_annual_yield_MW_10000[i] = A_wind_power_annual_MW_N_10000.sum()\n",
    "    A_wind_power_total_annual_yield_MW_100000[i] = A_wind_power_annual_MW_N_100000.sum()\n",
    "    \n",
    "A_wind_power_total_mean_annual_yield_MW_100 = A_wind_power_total_annual_yield_MW_100.mean()\n",
    "A_wind_power_total_mean_annual_yield_MW_1000 = A_wind_power_total_annual_yield_MW_1000.mean()    \n",
    "A_wind_power_total_mean_annual_yield_MW_10000 = A_wind_power_total_annual_yield_MW_10000.mean()    \n",
    "A_wind_power_total_mean_annual_yield_MW_100000 = A_wind_power_total_annual_yield_MW_100000.mean()\n",
    "\n",
    "A_wind_power_total_median_annual_yield_MW_100 = np.median(A_wind_power_total_annual_yield_MW_100)\n",
    "A_wind_power_total_median_annual_yield_MW_1000 = np.median(A_wind_power_total_annual_yield_MW_1000)\n",
    "A_wind_power_total_median_annual_yield_MW_10000 = np.median(A_wind_power_total_annual_yield_MW_10000)\n",
    "A_wind_power_total_median_annual_yield_MW_100000 = np.median(A_wind_power_total_annual_yield_MW_100000)\n",
    "\n",
    "A_wind_power_total_std_annual_yield_MW_100 = np.std(A_wind_power_total_annual_yield_MW_100)\n",
    "A_wind_power_total_std_annual_yield_MW_1000 = np.std(A_wind_power_total_annual_yield_MW_1000)\n",
    "A_wind_power_total_std_annual_yield_MW_10000 = np.std(A_wind_power_total_annual_yield_MW_10000)\n",
    "A_wind_power_total_std_annual_yield_MW_100000 = np.std(A_wind_power_total_annual_yield_MW_100000)\n"
   ]
  },
  {
   "cell_type": "code",
   "execution_count": 5,
   "metadata": {},
   "outputs": [],
   "source": [
    "A = pd.DataFrame(columns = ['100','1000','10000','100000','Case'])\n",
    "A['100'] = A_wind_power_total_annual_yield_MW_100\n",
    "A['1000'] = A_wind_power_total_annual_yield_MW_1000\n",
    "A['10000'] = A_wind_power_total_annual_yield_MW_10000\n",
    "A['100000'] = A_wind_power_total_annual_yield_MW_100000\n",
    "A['Case'] = 'A'\n"
   ]
  },
  {
   "cell_type": "code",
   "execution_count": 21,
   "metadata": {},
   "outputs": [
    {
     "data": {
      "image/png": "[encoded data removed]",
      "text/plain": [
       "<Figure size 432x288 with 1 Axes>"
      ]
     },
     "metadata": {
      "needs_background": "light"
     },
     "output_type": "display_data"
    }
   ],
   "source": [
    "plt.hist(A_wind_power_total_annual_yield_MW_1000, histtype = 'step',color = 'blue')\n",
    "#plt.xlim(0,30)\n",
    "plt.show()"
   ]
  },
  {
   "cell_type": "code",
   "execution_count": 7,
   "metadata": {},
   "outputs": [],
   "source": [
    "B_wind_power_total_annual_yield_MW_100 = np.empty(10000)\n",
    "B_wind_power_total_annual_yield_MW_1000 = np.empty(10000)\n",
    "B_wind_power_total_annual_yield_MW_10000 = np.empty(10000)\n",
    "B_wind_power_total_annual_yield_MW_100000 = np.empty(10000)\n",
    "\n",
    "for i in np.arange(0,10000):\n",
    "    B_windspeed =  B_weibull_lambda * np.random.weibull(B_weibull_k , num_of_hours_in_year)\n",
    "    B_wind_total = .5 * rho_air/2. * (B_windspeed**3) * eta * rotor_area \n",
    "    B_wind_power_annual_MW_N_100 = 100 * np.minimum(B_wind_total, wind_turbine_capacity)/(num_of_hours_in_year * 1000000)\n",
    "    B_wind_power_annual_MW_N_1000 = 1000 * np.minimum(B_wind_total, wind_turbine_capacity)/(num_of_hours_in_year * 1000000)\n",
    "    B_wind_power_annual_MW_N_10000 = 10000 * np.minimum(B_wind_total, wind_turbine_capacity)/(num_of_hours_in_year * 1000000)\n",
    "    B_wind_power_annual_MW_N_100000 = 100000 * np.minimum(B_wind_total, wind_turbine_capacity)/(num_of_hours_in_year * 1000000)\n",
    "    B_wind_power_total_annual_yield_MW_100[i] = B_wind_power_annual_MW_N_100.sum()\n",
    "    B_wind_power_total_annual_yield_MW_1000[i] = B_wind_power_annual_MW_N_1000.sum()\n",
    "    B_wind_power_total_annual_yield_MW_10000[i] = B_wind_power_annual_MW_N_10000.sum()\n",
    "    B_wind_power_total_annual_yield_MW_100000[i] = B_wind_power_annual_MW_N_100000.sum()\n",
    "    \n",
    "B_wind_power_total_mean_annual_yield_MW_100 = B_wind_power_total_annual_yield_MW_100.mean()\n",
    "B_wind_power_total_mean_annual_yield_MW_1000 = B_wind_power_total_annual_yield_MW_1000.mean()    \n",
    "B_wind_power_total_mean_annual_yield_MW_10000 = B_wind_power_total_annual_yield_MW_10000.mean()    \n",
    "B_wind_power_total_mean_annual_yield_MW_100000 = B_wind_power_total_annual_yield_MW_100000.mean()\n",
    "\n",
    "B_wind_power_total_median_annual_yield_MW_100 = np.median(B_wind_power_total_annual_yield_MW_100)\n",
    "B_wind_power_total_median_annual_yield_MW_1000 = np.median(B_wind_power_total_annual_yield_MW_1000)\n",
    "B_wind_power_total_median_annual_yield_MW_10000 = np.median(B_wind_power_total_annual_yield_MW_10000)\n",
    "B_wind_power_total_median_annual_yield_MW_100000 = np.median(B_wind_power_total_annual_yield_MW_100000)\n",
    "\n",
    "B_wind_power_total_std_annual_yield_MW_100 = np.std(B_wind_power_total_annual_yield_MW_100)\n",
    "B_wind_power_total_std_annual_yield_MW_1000 = np.std(B_wind_power_total_annual_yield_MW_1000)\n",
    "B_wind_power_total_std_annual_yield_MW_10000 = np.std(B_wind_power_total_annual_yield_MW_10000)\n",
    "B_wind_power_total_std_annual_yield_MW_100000 = np.std(B_wind_power_total_annual_yield_MW_100000)"
   ]
  },
  {
   "cell_type": "code",
   "execution_count": 8,
   "metadata": {},
   "outputs": [],
   "source": [
    "B = pd.DataFrame(columns = ['100','1000','10000','100000','Case'])\n",
    "B['100'] = B_wind_power_total_annual_yield_MW_100\n",
    "B['1000'] = B_wind_power_total_annual_yield_MW_1000\n",
    "B['10000'] = B_wind_power_total_annual_yield_MW_10000\n",
    "B['100000'] = B_wind_power_total_annual_yield_MW_100000\n",
    "B['Case'] = 'B'"
   ]
  },
  {
   "cell_type": "code",
   "execution_count": 20,
   "metadata": {},
   "outputs": [
    {
     "data": {
      "image/png": "[encoded data removed]",
      "text/plain": [
       "<Figure size 432x288 with 1 Axes>"
      ]
     },
     "metadata": {
      "needs_background": "light"
     },
     "output_type": "display_data"
    }
   ],
   "source": [
    "plt.hist(B_wind_power_total_annual_yield_MW_1000, histtype = 'step',color = 'green')\n",
    "#plt.xlim(0,30)\n",
    "plt.show()"
   ]
  },
  {
   "cell_type": "code",
   "execution_count": 10,
   "metadata": {},
   "outputs": [
    {
     "data": {
      "text/plain": [
       "0.00975807917357806"
      ]
     },
     "execution_count": 10,
     "metadata": {},
     "output_type": "execute_result"
    }
   ],
   "source": [
    "B_wind_power_total_std_annual_yield_MW_100/B_wind_power_total_mean_annual_yield_MW_100"
   ]
  },
  {
   "cell_type": "code",
   "execution_count": 11,
   "metadata": {},
   "outputs": [],
   "source": [
    "C_wind_power_total_annual_yield_MW_100 = np.empty(10000)\n",
    "C_wind_power_total_annual_yield_MW_1000 = np.empty(10000)\n",
    "C_wind_power_total_annual_yield_MW_10000 = np.empty(10000)\n",
    "C_wind_power_total_annual_yield_MW_100000 = np.empty(10000)\n",
    "\n",
    "for i in np.arange(0,10000):\n",
    "    C_windspeed =  C_weibull_lambda * np.random.weibull(C_weibull_k , num_of_hours_in_year)\n",
    "    C_wind_total = .5 * rho_air/2. * (C_windspeed**3) * eta * rotor_area \n",
    "    C_wind_power_annual_MW_N_100 = 100 * np.minimum(C_wind_total, wind_turbine_capacity)/(num_of_hours_in_year * 1000000)\n",
    "    C_wind_power_annual_MW_N_1000 = 1000 * np.minimum(C_wind_total, wind_turbine_capacity)/(num_of_hours_in_year * 1000000)\n",
    "    C_wind_power_annual_MW_N_10000 = 10000 * np.minimum(C_wind_total, wind_turbine_capacity)/(num_of_hours_in_year * 1000000)\n",
    "    C_wind_power_annual_MW_N_100000 = 100000 * np.minimum(C_wind_total, wind_turbine_capacity)/(num_of_hours_in_year * 1000000)\n",
    "    C_wind_power_total_annual_yield_MW_100[i] = C_wind_power_annual_MW_N_100.sum()\n",
    "    C_wind_power_total_annual_yield_MW_1000[i] = C_wind_power_annual_MW_N_1000.sum()\n",
    "    C_wind_power_total_annual_yield_MW_10000[i] = C_wind_power_annual_MW_N_10000.sum()\n",
    "    C_wind_power_total_annual_yield_MW_100000[i] = C_wind_power_annual_MW_N_100000.sum()\n",
    "    \n",
    "C_wind_power_total_mean_annual_yield_MW_100 = C_wind_power_total_annual_yield_MW_100.mean()\n",
    "C_wind_power_total_mean_annual_yield_MW_1000 = C_wind_power_total_annual_yield_MW_1000.mean()    \n",
    "C_wind_power_total_mean_annual_yield_MW_10000 = C_wind_power_total_annual_yield_MW_10000.mean()    \n",
    "C_wind_power_total_mean_annual_yield_MW_100000 = C_wind_power_total_annual_yield_MW_100000.mean()\n",
    "\n",
    "C_wind_power_total_median_annual_yield_MW_100 = np.median(C_wind_power_total_annual_yield_MW_100)\n",
    "C_wind_power_total_median_annual_yield_MW_1000 = np.median(C_wind_power_total_annual_yield_MW_1000)\n",
    "C_wind_power_total_median_annual_yield_MW_10000 = np.median(C_wind_power_total_annual_yield_MW_10000)\n",
    "C_wind_power_total_median_annual_yield_MW_100000 = np.median(C_wind_power_total_annual_yield_MW_100000)\n",
    "\n",
    "C_wind_power_total_std_annual_yield_MW_100 = np.std(C_wind_power_total_annual_yield_MW_100)\n",
    "C_wind_power_total_std_annual_yield_MW_1000 = np.std(C_wind_power_total_annual_yield_MW_1000)\n",
    "C_wind_power_total_std_annual_yield_MW_10000 = np.std(C_wind_power_total_annual_yield_MW_10000)\n",
    "C_wind_power_total_std_annual_yield_MW_100000 = np.std(C_wind_power_total_annual_yield_MW_100000)"
   ]
  },
  {
   "cell_type": "code",
   "execution_count": 12,
   "metadata": {},
   "outputs": [],
   "source": [
    "C = pd.DataFrame(columns = ['100','1000','10000','100000','Case'])\n",
    "C['100'] = C_wind_power_total_annual_yield_MW_100\n",
    "C['1000'] = C_wind_power_total_annual_yield_MW_1000\n",
    "C['10000'] = C_wind_power_total_annual_yield_MW_10000\n",
    "C['100000'] = C_wind_power_total_annual_yield_MW_100000\n",
    "C['Case'] = 'C'"
   ]
  },
  {
   "cell_type": "code",
   "execution_count": 22,
   "metadata": {},
   "outputs": [
    {
     "data": {
      "image/png": "[encoded data removed]",
      "text/plain": [
       "<Figure size 432x288 with 1 Axes>"
      ]
     },
     "metadata": {
      "needs_background": "light"
     },
     "output_type": "display_data"
    }
   ],
   "source": [
    "plt.hist(A_wind_power_total_annual_yield_MW_1000, histtype = 'step',color = 'blue')\n",
    "plt.hist(B_wind_power_total_annual_yield_MW_1000, histtype = 'step',color = 'green')\n",
    "plt.hist(C_wind_power_total_annual_yield_MW_1000, histtype = 'step',color = 'red')\n",
    "#plt.xlim(0,30)\n",
    "plt.show()"
   ]
  },
  {
   "cell_type": "code",
   "execution_count": 14,
   "metadata": {},
   "outputs": [],
   "source": [
    "frames = [A,B,C]\n",
    "all_common = pd.concat(frames,sort = False)"
   ]
  },
  {
   "cell_type": "code",
   "execution_count": 15,
   "metadata": {},
   "outputs": [
    {
     "data": {
      "image/png": "[encoded data removed]",
      "text/plain": [
       "<Figure size 432x288 with 1 Axes>"
      ]
     },
     "metadata": {
      "needs_background": "light"
     },
     "output_type": "display_data"
    }
   ],
   "source": [
    "ax = sns.boxplot(x=\"Case\", y= '100',data=all_common, palette=\"Set3\", showfliers = False)"
   ]
  },
  {
   "cell_type": "code",
   "execution_count": 16,
   "metadata": {},
   "outputs": [],
   "source": [
    "index = ['100','1000','10000','100000']\n",
    "df_windpower_sensitivity = pd.DataFrame(columns = ['A','B','C'], index = index) # standard deviation of annual power divided by mean of annual power\n",
    "df_windpower_sensitivity['A']['100'] = A_wind_power_total_std_annual_yield_MW_100/A_wind_power_total_mean_annual_yield_MW_100 *100\n",
    "df_windpower_sensitivity['A']['1000'] = A_wind_power_total_std_annual_yield_MW_1000/A_wind_power_total_mean_annual_yield_MW_1000 *100\n",
    "df_windpower_sensitivity['A']['10000'] = A_wind_power_total_std_annual_yield_MW_10000/A_wind_power_total_mean_annual_yield_MW_10000 *100\n",
    "df_windpower_sensitivity['A']['100000'] = A_wind_power_total_std_annual_yield_MW_100000/A_wind_power_total_mean_annual_yield_MW_100000 *100\n",
    "df_windpower_sensitivity['B']['100'] = B_wind_power_total_std_annual_yield_MW_100/B_wind_power_total_mean_annual_yield_MW_100 *100\n",
    "df_windpower_sensitivity['B']['1000'] = B_wind_power_total_std_annual_yield_MW_1000/B_wind_power_total_mean_annual_yield_MW_1000 *100\n",
    "df_windpower_sensitivity['B']['10000'] = B_wind_power_total_std_annual_yield_MW_10000/B_wind_power_total_mean_annual_yield_MW_10000 *100\n",
    "df_windpower_sensitivity['B']['100000'] = B_wind_power_total_std_annual_yield_MW_100000/B_wind_power_total_mean_annual_yield_MW_100000 *100\n",
    "df_windpower_sensitivity['C']['100'] = C_wind_power_total_std_annual_yield_MW_100/C_wind_power_total_mean_annual_yield_MW_100 *100\n",
    "df_windpower_sensitivity['C']['1000'] = C_wind_power_total_std_annual_yield_MW_1000/C_wind_power_total_mean_annual_yield_MW_1000 *100\n",
    "df_windpower_sensitivity['C']['10000'] = C_wind_power_total_std_annual_yield_MW_10000/C_wind_power_total_mean_annual_yield_MW_10000 *100\n",
    "df_windpower_sensitivity['C']['100000'] = C_wind_power_total_std_annual_yield_MW_100000/C_wind_power_total_mean_annual_yield_MW_100000 *100"
   ]
  },
  {
   "cell_type": "code",
   "execution_count": 17,
   "metadata": {},
   "outputs": [
    {
     "data": {
      "text/html": [
       "<div>\n",
       "<style scoped>\n",
       "    .dataframe tbody tr th:only-of-type {\n",
       "        vertical-align: middle;\n",
       "    }\n",
       "\n",
       "    .dataframe tbody tr th {\n",
       "        vertical-align: top;\n",
       "    }\n",
       "\n",
       "    .dataframe thead th {\n",
       "        text-align: right;\n",
       "    }\n",
       "</style>\n",
       "<table border=\"1\" class=\"dataframe\">\n",
       "  <thead>\n",
       "    <tr style=\"text-align: right;\">\n",
       "      <th></th>\n",
       "      <th>A</th>\n",
       "      <th>B</th>\n",
       "      <th>C</th>\n",
       "    </tr>\n",
       "  </thead>\n",
       "  <tbody>\n",
       "    <tr>\n",
       "      <th>100</th>\n",
       "      <td>1.01172</td>\n",
       "      <td>0.975808</td>\n",
       "      <td>0.582808</td>\n",
       "    </tr>\n",
       "    <tr>\n",
       "      <th>1000</th>\n",
       "      <td>1.01172</td>\n",
       "      <td>0.975808</td>\n",
       "      <td>0.582808</td>\n",
       "    </tr>\n",
       "    <tr>\n",
       "      <th>10000</th>\n",
       "      <td>1.01172</td>\n",
       "      <td>0.975808</td>\n",
       "      <td>0.582808</td>\n",
       "    </tr>\n",
       "    <tr>\n",
       "      <th>100000</th>\n",
       "      <td>1.01172</td>\n",
       "      <td>0.975808</td>\n",
       "      <td>0.582808</td>\n",
       "    </tr>\n",
       "  </tbody>\n",
       "</table>\n",
       "</div>"
      ],
      "text/plain": [
       "              A         B         C\n",
       "100     1.01172  0.975808  0.582808\n",
       "1000    1.01172  0.975808  0.582808\n",
       "10000   1.01172  0.975808  0.582808\n",
       "100000  1.01172  0.975808  0.582808"
      ]
     },
     "execution_count": 17,
     "metadata": {},
     "output_type": "execute_result"
    }
   ],
   "source": [
    "df_windpower_sensitivity"
   ]
  },
  {
   "cell_type": "markdown",
   "metadata": {},
   "source": [
    "### KEBA"
   ]
  },
  {
   "cell_type": "code",
   "execution_count": 61,
   "metadata": {},
   "outputs": [],
   "source": [
    "test = []\n",
    "def reduction_factor(heights,surface_roughness,eta, rotor_area):\n",
    "    for heights in height_of_boundary_layer:\n",
    "        numerator = (height_of_boundary_layer[heights] + 2 * surface_roughness * 338000)\n",
    "        fred  = numerator/(numerator + 1.5 * ((646416 - 1)/(338000*338000)) * (eta * rotor_area * 338000))\n",
    "        print(numerator)\n",
    "        test.append(fred)\n",
    "    print(test)"
   ]
  },
  {
   "cell_type": "code",
   "execution_count": 62,
   "metadata": {},
   "outputs": [
    {
     "name": "stdout",
     "output_type": "stream",
     "text": [
      "2676.0\n",
      "1376.0\n",
      "1376.0\n",
      "[1.0, 1.0, 1.0]\n"
     ]
    }
   ],
   "source": [
    "reduction_factor(height_of_boundary_layer,surface_roughness,eta, rotor_area)"
   ]
  },
  {
   "cell_type": "code",
   "execution_count": 60,
   "metadata": {},
   "outputs": [
    {
     "name": "stdout",
     "output_type": "stream",
     "text": [
      "2000\n",
      "700\n",
      "700\n"
     ]
    }
   ],
   "source": [
    "for heights in height_of_boundary_layer:\n",
    "    print height_of_boundary_layer[heights]"
   ]
  },
  {
   "cell_type": "code",
   "execution_count": 63,
   "metadata": {},
   "outputs": [
    {
     "data": {
      "text/plain": [
       "5027"
      ]
     },
     "execution_count": 63,
     "metadata": {},
     "output_type": "execute_result"
    }
   ],
   "source": [
    "rotor_area"
   ]
  },
  {
   "cell_type": "code",
   "execution_count": 64,
   "metadata": {},
   "outputs": [
    {
     "data": {
      "text/plain": [
       "0.44"
      ]
     },
     "execution_count": 64,
     "metadata": {},
     "output_type": "execute_result"
    }
   ],
   "source": [
    "eta"
   ]
  },
  {
   "cell_type": "code",
   "execution_count": null,
   "metadata": {},
   "outputs": [],
   "source": []
  }
 ],
 "metadata": {
  "kernelspec": {
   "display_name": "Python 2",
   "language": "python",
   "name": "python2"
  },
  "language_info": {
   "codemirror_mode": {
    "name": "ipython",
    "version": 2
   },
   "file_extension": ".py",
   "mimetype": "text/x-python",
   "name": "python",
   "nbconvert_exporter": "python",
   "pygments_lexer": "ipython2",
   "version": "2.7.16"
  }
 },
 "nbformat": 4,
 "nbformat_minor": 2
}
